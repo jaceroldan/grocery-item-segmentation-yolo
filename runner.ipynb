{
 "cells": [
  {
   "cell_type": "code",
   "execution_count": 11,
   "metadata": {},
   "outputs": [
    {
     "name": "stdout",
     "output_type": "stream",
     "text": [
      "dict_keys(['images', 'categories', 'annotations'])\n",
      "[{'id': 16, 'name': 'pineapple juice', 'supercategory': '', 'color': '#d6504a', 'metadata': {}, 'keypoint_colors': []}, {'supercategory': 'category_id', 'id': 18, 'name': '18'}, {'supercategory': 'type', 'id': 24, 'name': 'GreenCross Ethyl Alcohol'}, {'id': 19, 'name': 'pink_shampoo', 'supercategory': '', 'color': '#35e071', 'metadata': {}, 'keypoint_colors': []}, {'supercategory': 'type', 'id': 22, 'name': 'toothpaste'}, {'id': 8, 'name': 'garlic', 'supercategory': '', 'color': '#b059f0', 'metadata': {}, 'keypoint_colors': []}, {'id': 14, 'name': 'peanut_butter', 'supercategory': '', 'color': '#dccd1c', 'metadata': {}, 'keypoint_colors': []}, {'id': 6, 'name': 'Cooking_oil', 'supercategory': '', 'color': '#10d39c', 'metadata': {}, 'creator': 'jeryl4913', 'keypoint_colors': []}, {'id': 20, 'name': '20', 'supercategory': '', 'color': '#613fe3', 'metadata': {}, 'keypoint_colors': []}, {'supercategory': 'type', 'id': 1, 'name': 'bottled_soda'}, {'id': 13, 'name': 'Mayonnaise', 'supercategory': '', 'color': '#9c25ef', 'metadata': {}, 'keypoint_colors': []}, {'id': 21, 'name': 'silverswan', 'supercategory': '', 'color': '#0b26b3', 'metadata': {}, 'keypoint_colors': []}, {'id': 23, 'name': 'canned-tuna', 'supercategory': '', 'color': '#cf3750', 'metadata': {}, 'creator': 'gagluba', 'keypoint_colors': []}, {'id': 2, 'name': 'cheese', 'supercategory': '', 'color': '#74e7e6', 'metadata': {}, 'keypoint_colors': []}, {'id': 9, 'name': 'instant_noodles', 'supercategory': '', 'color': '#fec700', 'metadata': {}, 'keypoint_colors': []}, {'supercategory': 'type', 'id': 15, 'name': 'pasta'}, {'id': 17, 'name': 'crackers', 'supercategory': '', 'color': '#576aff', 'metadata': {}, 'keypoint_colors': []}, {'id': 11, 'datatorch_id': '29f4bb67-39a4-4dae-9414-851025f39266', 'name': 'lemon', 'supercategory': None}, {'id': 3, 'name': 'Kitkat', 'supercategory': '', 'color': '#ff2600', 'metadata': {}, 'keypoint_colors': []}, {'id': 5, 'name': 'condensed_milk', 'supercategory': '', 'color': '#dd3d9f', 'metadata': {}, 'keypoint_colors': []}, {'id': 4, 'name': 'coffee', 'supercategory': '', 'color': '#2445e2', 'metadata': {}, 'keypoint_colors': []}, {'id': 7, 'name': 'corned beef'}]\n",
      "[{'id': 1, 'name': 'bottled_soda'}, {'id': 2, 'name': 'cheese'}, {'id': 3, 'name': 'Kitkat'}, {'id': 4, 'name': 'coffee'}, {'id': 5, 'name': 'condensed_milk'}, {'id': 6, 'name': 'Cooking_oil'}, {'id': 7, 'name': 'corned beef'}, {'id': 8, 'name': 'garlic'}, {'id': 9, 'name': 'instant_noodles'}, {'id': 11, 'name': 'lemon'}, {'id': 13, 'name': 'Mayonnaise'}, {'id': 14, 'name': 'peanut_butter'}, {'id': 15, 'name': 'pasta'}, {'id': 16, 'name': 'pineapple juice'}, {'id': 17, 'name': 'crackers'}, {'id': 18, 'name': '18'}, {'id': 19, 'name': 'pink_shampoo'}, {'id': 20, 'name': '20'}, {'id': 21, 'name': 'silverswan'}, {'id': 22, 'name': 'toothpaste'}, {'id': 23, 'name': 'canned-tuna'}, {'id': 24, 'name': 'GreenCross Ethyl Alcohol'}]\n",
      "22\n",
      "['bottled_soda', 'cheese', 'Kitkat', 'coffee', 'condensed_milk', 'Cooking_oil', 'corned beef', 'garlic', 'instant_noodles', 'lemon', 'Mayonnaise', 'peanut_butter', 'pasta', 'pineapple juice', 'crackers', '18', 'pink_shampoo', '20', 'silverswan', 'toothpaste', 'canned-tuna', 'GreenCross Ethyl Alcohol']\n"
     ]
    }
   ],
   "source": [
    "import json\n",
    "\n",
    "with open('/data/detection/grocery/dataset/annotations/instances_train.json') as file:\n",
    "    annotations = json.load(file)\n",
    "\n",
    "print(annotations.keys())\n",
    "print(annotations['categories'])\n",
    "category_names = sorted([{'id': ac['id'], 'name': ac['name']} for ac in annotations['categories']], key=lambda x: x['id'])\n",
    "print(category_names)\n",
    "print(len(category_names))\n",
    "print([ac['name'] for ac in category_names])"
   ]
  },
  {
   "cell_type": "markdown",
   "metadata": {},
   "source": [
    "Current running script with YOLO8-nano.\n",
    "\n",
    "`yolo task=segment mode=train model=yolov8n-seg.pt data=config.yaml epochs=1 imgsz=640`"
   ]
  },
  {
   "cell_type": "code",
   "execution_count": null,
   "metadata": {},
   "outputs": [],
   "source": []
  }
 ],
 "metadata": {
  "kernelspec": {
   "display_name": "venv",
   "language": "python",
   "name": "python3"
  },
  "language_info": {
   "codemirror_mode": {
    "name": "ipython",
    "version": 3
   },
   "file_extension": ".py",
   "mimetype": "text/x-python",
   "name": "python",
   "nbconvert_exporter": "python",
   "pygments_lexer": "ipython3",
   "version": "3.10.15"
  }
 },
 "nbformat": 4,
 "nbformat_minor": 2
}
