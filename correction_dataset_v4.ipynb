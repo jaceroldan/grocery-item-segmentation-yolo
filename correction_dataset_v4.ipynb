{
 "cells": [
  {
   "cell_type": "code",
   "execution_count": 1,
   "metadata": {},
   "outputs": [
    {
     "name": "stdout",
     "output_type": "stream",
     "text": [
      "IDs have been corrected and saved in 'corrected_annotations_0.json'\n"
     ]
    }
   ],
   "source": [
    "import json\n",
    "\n",
    "\n",
    "annotations_files = [\n",
    "    '/data/students/juan/train/grocery-item-segmentation-yolo/dataset_v4/annotations/instances_train.json',\n",
    "    # '/data/students/juan/train/grocery-item-segmentation-yolo/dataset_v3/annotations/instances_val.json',\n",
    "]\n",
    "\n",
    "for file_idx, file_path in enumerate(annotations_files):\n",
    "    # Load your annotations JSON file\n",
    "    with open(file_path, 'r') as f:\n",
    "        data = json.load(f)\n",
    "\n",
    "    # Extract existing IDs and sort them\n",
    "    existing_ids = sorted(set(item['category_id'] for item in data['annotations']))\n",
    "\n",
    "    # Create a mapping from existing IDs to a continuous range starting from 1\n",
    "    id_mapping = {old_id: new_id for new_id, old_id in enumerate(existing_ids, start=1)}\n",
    "\n",
    "    # Update IDs in the annotations with the new mapping\n",
    "    for item in data['annotations']:\n",
    "        item['category_id'] = id_mapping[item['category_id']]\n",
    "\n",
    "    # Save the corrected annotations back to a JSON file\n",
    "    with open(f'/data/students/juan/train/grocery-item-segmentation-yolo/dataset_v4/annotations/corrected_annotations_{file_idx}.json', 'w') as f:\n",
    "        json.dump(data, f, indent=4)\n",
    "\n",
    "    print(f\"IDs have been corrected and saved in 'corrected_annotations_{file_idx}.json'\")\n"
   ]
  },
  {
   "cell_type": "code",
   "execution_count": 2,
   "metadata": {},
   "outputs": [
    {
     "name": "stderr",
     "output_type": "stream",
     "text": [
      "Annotations /raid/students/juan/train/grocery-item-segmentation-yolo/dataset_v4/annotations/corrected_annotations_0.json: 100%|██████████| 122/122 [00:00<00:00, 9055.77it/s]"
     ]
    },
    {
     "name": "stdout",
     "output_type": "stream",
     "text": [
      "COCO data converted successfully.\n",
      "Results saved to /raid/students/juan/train/grocery-item-segmentation-yolo/coco_converted\n"
     ]
    },
    {
     "name": "stderr",
     "output_type": "stream",
     "text": [
      "\n"
     ]
    }
   ],
   "source": [
    "from ultralytics.data.converter import convert_coco\n",
    "\n",
    "convert_coco(labels_dir='/data/students/juan/train/grocery-item-segmentation-yolo/dataset_v4/annotations', use_segments=True, cls91to80=False)"
   ]
  },
  {
   "cell_type": "code",
   "execution_count": 3,
   "metadata": {},
   "outputs": [
    {
     "name": "stdout",
     "output_type": "stream",
     "text": [
      "Segmentation labels clipped successfully.\n",
      "Segmentation labels clipped successfully.\n"
     ]
    }
   ],
   "source": [
    "import os\n",
    "\n",
    "def clip_segmentation_labels(label_dir):\n",
    "    \"\"\"\n",
    "    Clips all segmentation points in YOLO label files to the range [0, 1].\n",
    "    Args:\n",
    "        label_dir (str): Path to the directory containing YOLO segmentation label files.\n",
    "    \"\"\"\n",
    "    for label_file in os.listdir(label_dir):\n",
    "        if label_file.endswith('.txt'):\n",
    "            label_path = os.path.join(label_dir, label_file)\n",
    "            with open(label_path, 'r') as file:\n",
    "                lines = file.readlines()\n",
    "\n",
    "            corrected_lines = []\n",
    "            for line in lines:\n",
    "                parts = line.strip().split()\n",
    "                if len(parts) > 1:  # Ensure valid segmentation label format\n",
    "                    class_id = parts[0]\n",
    "                    points = list(map(float, parts[1:]))\n",
    "                    \n",
    "                    # Clip each coordinate to [0, 1]\n",
    "                    clipped_points = [max(0, min(1, coord)) for coord in points]\n",
    "                    corrected_line = f\"{class_id} \" + \" \".join(map(str, clipped_points))\n",
    "                    corrected_lines.append(corrected_line)\n",
    "\n",
    "            # Overwrite the file with corrected data\n",
    "            with open(label_path, 'w') as file:\n",
    "                file.write(\"\\n\".join(corrected_lines))\n",
    "    \n",
    "    print(\"Segmentation labels clipped successfully.\")\n",
    "\n",
    "# Run the function\n",
    "label_train_directory = \"dataset_v3/labels/train/\"\n",
    "label_val_directory = \"dataset_v3/labels/val/\"\n",
    "\n",
    "clip_segmentation_labels(label_train_directory)\n",
    "clip_segmentation_labels(label_val_directory)\n"
   ]
  },
  {
   "cell_type": "code",
   "execution_count": 9,
   "metadata": {},
   "outputs": [
    {
     "name": "stdout",
     "output_type": "stream",
     "text": [
      "2460\n",
      "2457\n",
      "False\n",
      "['240461', '090474', '040488']\n"
     ]
    }
   ],
   "source": [
    "import os\n",
    "\n",
    "dataset_v3_prefix = '/data/students/juan/train/grocery-item-segmentation-yolo/dataset_v3/'\n",
    "train_image_file_path = os.path.join(dataset_v3_prefix, 'images', 'train')\n",
    "train_label_file_path = os.path.join(dataset_v3_prefix, 'labels', 'train')\n",
    "\n",
    "train_image_files = os.listdir(train_image_file_path)\n",
    "train_label_files = os.listdir(train_label_file_path)\n",
    "\n",
    "print(len(train_image_files))\n",
    "print(len(train_label_files))\n",
    "\n",
    "print(len(train_image_files) == len(train_label_files))\n",
    "\n",
    "train_image_files = [img.split('.')[0] for img in train_image_files]\n",
    "train_label_files = [label.split('.')[0] for label in train_label_files]\n",
    "\n",
    "images_not_in_labels = []\n",
    "for img in train_image_files:\n",
    "    if img not in train_label_files:\n",
    "        images_not_in_labels.append(img)\n",
    "\n",
    "print(images_not_in_labels)\n"
   ]
  }
 ],
 "metadata": {
  "kernelspec": {
   "display_name": "venv",
   "language": "python",
   "name": "python3"
  },
  "language_info": {
   "codemirror_mode": {
    "name": "ipython",
    "version": 3
   },
   "file_extension": ".py",
   "mimetype": "text/x-python",
   "name": "python",
   "nbconvert_exporter": "python",
   "pygments_lexer": "ipython3",
   "version": "3.10.15"
  }
 },
 "nbformat": 4,
 "nbformat_minor": 2
}
