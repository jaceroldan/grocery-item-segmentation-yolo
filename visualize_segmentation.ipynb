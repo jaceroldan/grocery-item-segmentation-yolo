{
 "cells": [
  {
   "cell_type": "code",
   "execution_count": 2,
   "metadata": {},
   "outputs": [
    {
     "name": "stdout",
     "output_type": "stream",
     "text": [
      "Visualization saved to output_visualizations/240349_visualized.jpg\n"
     ]
    }
   ],
   "source": [
    "import os\n",
    "import cv2\n",
    "import numpy as np\n",
    "\n",
    "# Paths to images and labels directories\n",
    "images_dir = 'dataset_sim/images/train'\n",
    "labels_dir = 'dataset_sim/labels/train'\n",
    "output_dir = 'output_visualizations/'  # Directory to save visualized images\n",
    "\n",
    "# Create output directory if it doesn't exist\n",
    "os.makedirs(output_dir, exist_ok=True)\n",
    "\n",
    "# Loop through each label file\n",
    "for label_file in os.listdir(labels_dir):\n",
    "    if label_file.endswith('.txt'):\n",
    "        # Read corresponding image\n",
    "        image_path = os.path.join(images_dir, label_file.replace('.txt', '.jpg'))\n",
    "        image = cv2.imread(image_path)\n",
    "        \n",
    "        if image is None:\n",
    "            print(f\"Image {image_path} not found or cannot be opened.\")\n",
    "            continue\n",
    "        \n",
    "        height, width = image.shape[:2]\n",
    "        \n",
    "        # Create a blank mask\n",
    "        mask = np.zeros_like(image)\n",
    "        \n",
    "        # Read label file\n",
    "        with open(os.path.join(labels_dir, label_file), 'r') as f:\n",
    "            for line in f:\n",
    "                parts = line.strip().split()\n",
    "                \n",
    "                # Parse class_id and points\n",
    "                class_id = int(parts[0])\n",
    "                points = [float(coord) for coord in parts[1:]]\n",
    "                \n",
    "                # Convert normalized points to pixel coordinates\n",
    "                polygon = np.array(\n",
    "                    [(int(x * width), int(y * height)) for x, y in zip(points[::2], points[1::2])]\n",
    "                )\n",
    "                \n",
    "                # Draw the polygon on the mask with a color\n",
    "                color = (0, 255, 0)  # Green color for the mask\n",
    "                cv2.fillPoly(mask, [polygon], color=color)\n",
    "                \n",
    "                # Optionally, add a boundary around the polygon for clarity\n",
    "                cv2.polylines(mask, [polygon], isClosed=True, color=(0, 0, 255), thickness=2)  # Red boundary\n",
    "\n",
    "        # Overlay mask on the image\n",
    "        overlayed_image = cv2.addWeighted(image, 0.7, mask, 0.3, 0)\n",
    "        \n",
    "        # Save or display the overlayed image\n",
    "        output_path = os.path.join(output_dir, label_file.replace('.txt', '_visualized.jpg'))\n",
    "        cv2.imwrite(output_path, overlayed_image)\n",
    "        print(f\"Visualization saved to {output_path}\")\n"
   ]
  }
 ],
 "metadata": {
  "kernelspec": {
   "display_name": "venv",
   "language": "python",
   "name": "python3"
  },
  "language_info": {
   "codemirror_mode": {
    "name": "ipython",
    "version": 3
   },
   "file_extension": ".py",
   "mimetype": "text/x-python",
   "name": "python",
   "nbconvert_exporter": "python",
   "pygments_lexer": "ipython3",
   "version": "3.10.15"
  }
 },
 "nbformat": 4,
 "nbformat_minor": 2
}
