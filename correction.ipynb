{
 "cells": [
  {
   "cell_type": "code",
   "execution_count": null,
   "metadata": {},
   "outputs": [],
   "source": [
    "import json\n",
    "\n",
    "\n",
    "annotations_files = [\n",
    "    '/data/students/juan/train/grocery-item-segmentation-yolo/dataset/annotations/instances_train.json',\n",
    "    '/data/students/juan/train/grocery-item-segmentation-yolo/dataset/annotations/instances_val.json',\n",
    "]\n",
    "\n",
    "for file_idx, file_path in enumerate(annotations_files):\n",
    "    # Load your annotations JSON file\n",
    "    with open(file_path, 'r') as f:\n",
    "        data = json.load(f)\n",
    "\n",
    "    # Extract existing IDs and sort them\n",
    "    existing_ids = sorted(set(item['category_id'] for item in data['annotations']))\n",
    "\n",
    "    # Create a mapping from existing IDs to a continuous range starting from 1\n",
    "    id_mapping = {old_id: new_id for new_id, old_id in enumerate(existing_ids, start=1)}\n",
    "\n",
    "    # Update IDs in the annotations with the new mapping\n",
    "    for item in data['annotations']:\n",
    "        item['category_id'] = id_mapping[item['category_id']]\n",
    "\n",
    "    # Save the corrected annotations back to a JSON file\n",
    "    with open(f'corrected_annotations_{file_idx}.json', 'w') as f:\n",
    "        json.dump(data, f, indent=4)\n",
    "\n",
    "    print(f\"IDs have been corrected and saved in 'corrected_annotations_1-{file_idx}.json'\")\n"
   ]
  },
  {
   "cell_type": "code",
   "execution_count": 1,
   "metadata": {},
   "outputs": [
    {
     "name": "stderr",
     "output_type": "stream",
     "text": [
      "Annotations /raid/students/juan/train/grocery-item-segmentation-yolo/dataset/annotations/instances_train.json: 100%|██████████| 7604/7604 [00:00<00:00, 8301.17it/s]\n",
      "Annotations /raid/students/juan/train/grocery-item-segmentation-yolo/dataset/annotations/instances_val.json: 100%|██████████| 845/845 [00:00<00:00, 8217.66it/s]"
     ]
    },
    {
     "name": "stdout",
     "output_type": "stream",
     "text": [
      "COCO data converted successfully.\n",
      "Results saved to /raid/students/juan/train/grocery-item-segmentation-yolo/coco_converted2\n"
     ]
    },
    {
     "name": "stderr",
     "output_type": "stream",
     "text": [
      "\n"
     ]
    }
   ],
   "source": [
    "from ultralytics.data.converter import convert_coco\n",
    "\n",
    "convert_coco(labels_dir='/data/students/juan/train/grocery-item-segmentation-yolo/dataset/annotations', use_segments=True, cls91to80=False)"
   ]
  }
 ],
 "metadata": {
  "kernelspec": {
   "display_name": "venv",
   "language": "python",
   "name": "python3"
  },
  "language_info": {
   "codemirror_mode": {
    "name": "ipython",
    "version": 3
   },
   "file_extension": ".py",
   "mimetype": "text/x-python",
   "name": "python",
   "nbconvert_exporter": "python",
   "pygments_lexer": "ipython3",
   "version": "3.10.15"
  }
 },
 "nbformat": 4,
 "nbformat_minor": 2
}
